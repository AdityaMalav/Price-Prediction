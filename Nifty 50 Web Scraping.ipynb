{
 "cells": [
  {
   "cell_type": "code",
   "execution_count": 1,
   "id": "75b2dac8",
   "metadata": {},
   "outputs": [
    {
     "name": "stdout",
     "output_type": "stream",
     "text": [
      "Collecting nsepy\n",
      "  Using cached nsepy-0.8-py3-none-any.whl\n",
      "Requirement already satisfied: six in c:\\users\\asus\\anaconda3\\lib\\site-packages (from nsepy) (1.16.0)\n",
      "Requirement already satisfied: pandas in c:\\users\\asus\\anaconda3\\lib\\site-packages (from nsepy) (1.4.2)\n",
      "Requirement already satisfied: beautifulsoup4 in c:\\users\\asus\\anaconda3\\lib\\site-packages (from nsepy) (4.11.1)\n",
      "Requirement already satisfied: click in c:\\users\\asus\\anaconda3\\lib\\site-packages (from nsepy) (8.0.4)\n",
      "Requirement already satisfied: requests in c:\\users\\asus\\anaconda3\\lib\\site-packages (from nsepy) (2.27.1)\n",
      "Requirement already satisfied: numpy in c:\\users\\asus\\anaconda3\\lib\\site-packages (from nsepy) (1.21.5)\n",
      "Requirement already satisfied: lxml in c:\\users\\asus\\anaconda3\\lib\\site-packages (from nsepy) (4.8.0)\n",
      "Requirement already satisfied: soupsieve>1.2 in c:\\users\\asus\\anaconda3\\lib\\site-packages (from beautifulsoup4->nsepy) (2.3.1)\n",
      "Requirement already satisfied: colorama in c:\\users\\asus\\anaconda3\\lib\\site-packages (from click->nsepy) (0.4.4)\n",
      "Requirement already satisfied: pytz>=2020.1 in c:\\users\\asus\\anaconda3\\lib\\site-packages (from pandas->nsepy) (2021.3)\n",
      "Requirement already satisfied: python-dateutil>=2.8.1 in c:\\users\\asus\\anaconda3\\lib\\site-packages (from pandas->nsepy) (2.8.2)\n",
      "Requirement already satisfied: certifi>=2017.4.17 in c:\\users\\asus\\anaconda3\\lib\\site-packages (from requests->nsepy) (2021.10.8)\n",
      "Requirement already satisfied: idna<4,>=2.5 in c:\\users\\asus\\anaconda3\\lib\\site-packages (from requests->nsepy) (3.3)\n",
      "Requirement already satisfied: urllib3<1.27,>=1.21.1 in c:\\users\\asus\\anaconda3\\lib\\site-packages (from requests->nsepy) (1.26.9)\n",
      "Requirement already satisfied: charset-normalizer~=2.0.0 in c:\\users\\asus\\anaconda3\\lib\\site-packages (from requests->nsepy) (2.0.4)\n",
      "Installing collected packages: nsepy\n",
      "Successfully installed nsepy-0.8\n"
     ]
    }
   ],
   "source": [
    "!pip install nsepy"
   ]
  },
  {
   "cell_type": "code",
   "execution_count": 2,
   "id": "3a74e5aa",
   "metadata": {},
   "outputs": [],
   "source": [
    "import pandas as pd  #Libraries we used\n",
    "import numpy as np\n",
    "from nsepy import get_history\n",
    "from datetime import date"
   ]
  },
  {
   "cell_type": "code",
   "execution_count": null,
   "id": "aa1b493e",
   "metadata": {},
   "outputs": [],
   "source": [
    "nf50_url = 'https://www1.nseindia.com/content/indices/ind_nifty50list.csv' # Import from NSE Nifty50 list Site\n",
    "\n",
    "df_nf50 = pd.read_csv(nf50_url)"
   ]
  },
  {
   "cell_type": "code",
   "execution_count": null,
   "id": "b0bca8a2",
   "metadata": {},
   "outputs": [],
   "source": [
    "Compy = df_nf50['Symbol']"
   ]
  },
  {
   "cell_type": "code",
   "execution_count": null,
   "id": "372ef5ef",
   "metadata": {},
   "outputs": [],
   "source": [
    "Symbol_li = []\n",
    "\n",
    "for i in np.array(Compy):\n",
    "  Symbol_li.append(i)"
   ]
  },
  {
   "cell_type": "code",
   "execution_count": null,
   "id": "8af93206",
   "metadata": {},
   "outputs": [],
   "source": [
    "Symbol_li"
   ]
  },
  {
   "cell_type": "code",
   "execution_count": null,
   "id": "d75fbdd8",
   "metadata": {},
   "outputs": [],
   "source": [
    "get_history(symbol='SBIN',\n",
    "                   start=date(2018,12,14),\n",
    "                   end=date(2022,12,13)).shape"
   ]
  },
  {
   "cell_type": "code",
   "execution_count": null,
   "id": "0e312d85",
   "metadata": {},
   "outputs": [],
   "source": [
    "nifty50=pd.DataFrame()\n",
    "for i in Symbol_li:\n",
    "   new = get_history(symbol=i,\n",
    "                   start=date(2018,12,14),\n",
    "                   end=date(2022,12,13))\n",
    "   nifty50 = nifty50.append(new)"
   ]
  },
  {
   "cell_type": "code",
   "execution_count": null,
   "id": "8d636cd1",
   "metadata": {},
   "outputs": [],
   "source": [
    "nifty50 = nifty50.reset_index()"
   ]
  },
  {
   "cell_type": "code",
   "execution_count": null,
   "id": "c22d7e81",
   "metadata": {},
   "outputs": [],
   "source": [
    "nifty50.shape"
   ]
  },
  {
   "cell_type": "code",
   "execution_count": null,
   "id": "557ecebe",
   "metadata": {},
   "outputs": [],
   "source": [
    "nifty50['Date'] = pd.to_datetime(nifty50['Date'])"
   ]
  },
  {
   "cell_type": "code",
   "execution_count": null,
   "id": "df5e4f50",
   "metadata": {},
   "outputs": [],
   "source": [
    "nifty50.to_csv('/content/drive/MyDrive/Masai Assign/DA - Projects/DA Project 3/nifty50.csv') # Export to CSV"
   ]
  },
  {
   "cell_type": "code",
   "execution_count": null,
   "id": "5371dee8",
   "metadata": {},
   "outputs": [],
   "source": [
    "nifty50.dtypes"
   ]
  },
  {
   "cell_type": "code",
   "execution_count": null,
   "id": "5be07c10",
   "metadata": {},
   "outputs": [],
   "source": [
    "nifty50.corr()"
   ]
  }
 ],
 "metadata": {
  "kernelspec": {
   "display_name": "Python 3 (ipykernel)",
   "language": "python",
   "name": "python3"
  },
  "language_info": {
   "codemirror_mode": {
    "name": "ipython",
    "version": 3
   },
   "file_extension": ".py",
   "mimetype": "text/x-python",
   "name": "python",
   "nbconvert_exporter": "python",
   "pygments_lexer": "ipython3",
   "version": "3.9.12"
  }
 },
 "nbformat": 4,
 "nbformat_minor": 5
}
